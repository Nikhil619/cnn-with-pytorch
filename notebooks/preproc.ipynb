{
 "metadata": {
  "language_info": {
   "codemirror_mode": {
    "name": "ipython",
    "version": 3
   },
   "file_extension": ".py",
   "mimetype": "text/x-python",
   "name": "python",
   "nbconvert_exporter": "python",
   "pygments_lexer": "ipython3",
   "version": "3.8.5-final"
  },
  "orig_nbformat": 2,
  "kernelspec": {
   "name": "ml",
   "display_name": "ml",
   "language": "python"
  }
 },
 "nbformat": 4,
 "nbformat_minor": 2,
 "cells": [
  {
   "source": [
    "# Preprocessing Notebook"
   ],
   "cell_type": "markdown",
   "metadata": {}
  },
  {
   "cell_type": "code",
   "execution_count": 14,
   "metadata": {},
   "outputs": [],
   "source": [
    "import os\n",
    "import sys\n",
    "sys.path.append('..')\n",
    "\n",
    "\n",
    "import src.config as config\n",
    "import numpy as np\n",
    "import matplotlib.pyplot as plt\n",
    "%matplotlib inline"
   ]
  },
  {
   "cell_type": "code",
   "execution_count": 15,
   "metadata": {},
   "outputs": [],
   "source": [
    "im_files_circles = [config.CIRCLES  +  im_circ for im_circ in os.listdir(config.CIRCLES)]\n",
    "im_files_squares = [config.SQUARES  +  im_squer for im_squer in os.listdir(config.SQUARES)]\n",
    "im_files_triangles = [config.TRIANGLES  +  im_tria for im_tria in os.listdir(config.TRIANGLES)]"
   ]
  },
  {
   "cell_type": "code",
   "execution_count": 16,
   "metadata": {},
   "outputs": [
    {
     "output_type": "execute_result",
     "data": {
      "text/plain": [
       "['../input/shapes/circles/drawing(54).png',\n",
       " '../input/shapes/circles/drawing(56).png',\n",
       " '../input/shapes/circles/drawing(67).png',\n",
       " '../input/shapes/circles/drawing(5).png',\n",
       " '../input/shapes/circles/drawing(48).png',\n",
       " '../input/shapes/circles/drawing(87).png',\n",
       " '../input/shapes/circles/drawing(8).png',\n",
       " '../input/shapes/circles/drawing(14).png',\n",
       " '../input/shapes/circles/drawing(72).png',\n",
       " '../input/shapes/circles/drawing(9).png',\n",
       " '../input/shapes/circles/drawing(43).png',\n",
       " '../input/shapes/circles/drawing(99).png',\n",
       " '../input/shapes/circles/drawing(39).png',\n",
       " '../input/shapes/circles/drawing(79).png',\n",
       " '../input/shapes/circles/drawing(45).png',\n",
       " '../input/shapes/circles/drawing(94).png',\n",
       " '../input/shapes/circles/drawing(34).png',\n",
       " '../input/shapes/circles/drawing(47).png',\n",
       " '../input/shapes/circles/drawing(57).png',\n",
       " '../input/shapes/circles/drawing(12).png',\n",
       " '../input/shapes/circles/drawing(36).png',\n",
       " '../input/shapes/circles/drawing(92).png',\n",
       " '../input/shapes/circles/drawing(68).png',\n",
       " '../input/shapes/circles/drawing(80).png',\n",
       " '../input/shapes/circles/drawing(10).png',\n",
       " '../input/shapes/circles/drawing(20).png',\n",
       " '../input/shapes/circles/drawing(38).png',\n",
       " '../input/shapes/circles/drawing(32).png',\n",
       " '../input/shapes/circles/drawing(82).png',\n",
       " '../input/shapes/circles/drawing(74).png',\n",
       " '../input/shapes/circles/drawing(85).png',\n",
       " '../input/shapes/circles/drawing(11).png',\n",
       " '../input/shapes/circles/drawing(76).png',\n",
       " '../input/shapes/circles/drawing(18).png',\n",
       " '../input/shapes/circles/drawing(53).png',\n",
       " '../input/shapes/circles/drawing(75).png',\n",
       " '../input/shapes/circles/drawing(31).png',\n",
       " '../input/shapes/circles/drawing(16).png',\n",
       " '../input/shapes/circles/drawing(19).png',\n",
       " '../input/shapes/circles/drawing(58).png',\n",
       " '../input/shapes/circles/drawing(60).png',\n",
       " '../input/shapes/circles/drawing(73).png',\n",
       " '../input/shapes/circles/drawing(64).png',\n",
       " '../input/shapes/circles/drawing(49).png',\n",
       " '../input/shapes/circles/drawing(62).png',\n",
       " '../input/shapes/circles/drawing(86).png',\n",
       " '../input/shapes/circles/drawing(35).png',\n",
       " '../input/shapes/circles/drawing(21).png',\n",
       " '../input/shapes/circles/drawing(24).png',\n",
       " '../input/shapes/circles/drawing(44).png',\n",
       " '../input/shapes/circles/drawing(28).png',\n",
       " '../input/shapes/circles/drawing(2).png',\n",
       " '../input/shapes/circles/drawing(40).png',\n",
       " '../input/shapes/circles/drawing(15).png',\n",
       " '../input/shapes/circles/drawing(6).png',\n",
       " '../input/shapes/circles/drawing(33).png',\n",
       " '../input/shapes/circles/drawing(78).png',\n",
       " '../input/shapes/circles/drawing(50).png',\n",
       " '../input/shapes/circles/drawing(17).png',\n",
       " '../input/shapes/circles/drawing(63).png',\n",
       " '../input/shapes/circles/drawing(96).png',\n",
       " '../input/shapes/circles/drawing(55).png',\n",
       " '../input/shapes/circles/drawing(93).png',\n",
       " '../input/shapes/circles/drawing(91).png',\n",
       " '../input/shapes/circles/drawing(69).png',\n",
       " '../input/shapes/circles/drawing(7).png',\n",
       " '../input/shapes/circles/drawing(52).png',\n",
       " '../input/shapes/circles/drawing(3).png',\n",
       " '../input/shapes/circles/drawing(42).png',\n",
       " '../input/shapes/circles/drawing(46).png',\n",
       " '../input/shapes/circles/drawing(29).png',\n",
       " '../input/shapes/circles/drawing(30).png',\n",
       " '../input/shapes/circles/drawing(26).png',\n",
       " '../input/shapes/circles/drawing(13).png',\n",
       " '../input/shapes/circles/drawing(22).png',\n",
       " '../input/shapes/circles/drawing(1).png',\n",
       " '../input/shapes/circles/drawing(97).png',\n",
       " '../input/shapes/circles/drawing(51).png',\n",
       " '../input/shapes/circles/drawing(27).png',\n",
       " '../input/shapes/circles/drawing(71).png',\n",
       " '../input/shapes/circles/drawing(89).png',\n",
       " '../input/shapes/circles/drawing(65).png',\n",
       " '../input/shapes/circles/drawing(77).png',\n",
       " '../input/shapes/circles/drawing(88).png',\n",
       " '../input/shapes/circles/drawing(61).png',\n",
       " '../input/shapes/circles/drawing(81).png',\n",
       " '../input/shapes/circles/drawing(25).png',\n",
       " '../input/shapes/circles/drawing(98).png',\n",
       " '../input/shapes/circles/drawing(41).png',\n",
       " '../input/shapes/circles/drawing(100).png',\n",
       " '../input/shapes/circles/drawing(59).png',\n",
       " '../input/shapes/circles/drawing(70).png',\n",
       " '../input/shapes/circles/drawing(95).png',\n",
       " '../input/shapes/circles/drawing(4).png',\n",
       " '../input/shapes/circles/drawing(37).png',\n",
       " '../input/shapes/circles/drawing(84).png',\n",
       " '../input/shapes/circles/drawing(66).png',\n",
       " '../input/shapes/circles/drawing(23).png',\n",
       " '../input/shapes/circles/drawing(90).png',\n",
       " '../input/shapes/circles/drawing(83).png']"
      ]
     },
     "metadata": {},
     "execution_count": 16
    }
   ],
   "source": [
    "im_files_circles"
   ]
  },
  {
   "cell_type": "code",
   "execution_count": 17,
   "metadata": {},
   "outputs": [],
   "source": [
    "images_plt_circles = [plt.imread(f) for f in im_files_circles]\n",
    "images_plt_squares = [plt.imread(f) for f in im_files_squares]\n",
    "images_plt_triangles = [plt.imread(f) for f in im_files_triangles]"
   ]
  },
  {
   "cell_type": "code",
   "execution_count": 24,
   "metadata": {},
   "outputs": [
    {
     "output_type": "execute_result",
     "data": {
      "text/plain": [
       "<matplotlib.image.AxesImage at 0x7fd870136100>"
      ]
     },
     "metadata": {},
     "execution_count": 24
    },
    {
     "output_type": "display_data",
     "data": {
      "text/plain": "<Figure size 432x288 with 3 Axes>",
      "image/svg+xml": "<?xml version=\"1.0\" encoding=\"utf-8\" standalone=\"no\"?>\n<!DOCTYPE svg PUBLIC \"-//W3C//DTD SVG 1.1//EN\"\n  \"http://www.w3.org/Graphics/SVG/1.1/DTD/svg11.dtd\">\n<!-- Created with matplotlib (https://matplotlib.org/) -->\n<svg height=\"131.589529pt\" version=\"1.1\" viewBox=\"0 0 368.925 131.589529\" width=\"368.925pt\" xmlns=\"http://www.w3.org/2000/svg\" xmlns:xlink=\"http://www.w3.org/1999/xlink\">\n <metadata>\n  <rdf:RDF xmlns:cc=\"http://creativecommons.org/ns#\" xmlns:dc=\"http://purl.org/dc/elements/1.1/\" xmlns:rdf=\"http://www.w3.org/1999/02/22-rdf-syntax-ns#\">\n   <cc:Work>\n    <dc:type rdf:resource=\"http://purl.org/dc/dcmitype/StillImage\"/>\n    <dc:date>2021-02-22T10:35:41.427273</dc:date>\n    <dc:format>image/svg+xml</dc:format>\n    <dc:creator>\n     <cc:Agent>\n      <dc:title>Matplotlib v3.3.3, https://matplotlib.org/</dc:title>\n     </cc:Agent>\n    </dc:creator>\n   </cc:Work>\n  </rdf:RDF>\n </metadata>\n <defs>\n  <style type=\"text/css\">*{stroke-linecap:butt;stroke-linejoin:round;}</style>\n </defs>\n <g id=\"figure_1\">\n  <g id=\"patch_1\">\n   <path d=\"M -0 131.589529 \nL 368.925 131.589529 \nL 368.925 0 \nL -0 0 \nz\n\" style=\"fill:none;\"/>\n  </g>\n  <g id=\"axes_1\">\n   <g id=\"patch_2\">\n    <path d=\"M 26.925 107.711404 \nL 125.395588 107.711404 \nL 125.395588 9.240815 \nL 26.925 9.240815 \nz\n\" style=\"fill:#ffffff;\"/>\n   </g>\n   <g clip-path=\"url(#pc030a6f4e2)\">\n    <image height=\"99\" id=\"image55ed9108cd\" transform=\"scale(1 -1)translate(0 -99)\" width=\"99\" x=\"26.925\" xlink:href=\"data:image/png;base64,\niVBORw0KGgoAAAANSUhEUgAAAGMAAABjCAYAAACPO76VAAAE4UlEQVR4nO2dSyi8XxjHz7iTaxEhspAUIkREuZRsFRayISUW7KyskOQasbKwsFQ2LkWysRJSLili5Z6ycMn9v3t+5zn9za8Z75jvzO/5rL5vX+Ycvp5zjnfOe8b29fX1pTyQj48P0q+vr8wzf6TAwEDSvr6+ru3YD/BxdweEP0gYQEgYQPi5uwM65lh/cXFB+vDwkHmnp6ekHx4emKfPJ0opFRkZSTo7O5t5WVlZpIOCghzqr9VIZQAhYQBhc/fSVh+K5ubmmHdwcEA6KSmJecnJyaSjo6OZ5+fHR9/z83PS29vbzEtNTSXd3NzMvJCQELt9txqpDCAkDCAkDCB+fc7Y2Nhg1/39/aRLS0uZV19fTzomJoZ5+nhus9nstvn5+Ulan6OUUmpsbIy0eVtlZGSEtDkPuQKpDCAkDCBcMkzd39+z68nJSdIrKyvMGxoaIp2fn291V/7K29sb6a6uLub5+/uT7uvrY54rhi2pDCAkDCAkDCAsmzNubm5IT0xMME8fXzs7O5kXERFhRfOW8PT0xK4bGxtJm/0uKSmxvH2pDCAkDCCcXp+9vLywa/2Oa2hoKPPa29u/9ZAw79Lq/Z6fn2debm7ut9/nLFIZQEgYQEgYQDg9ZxwfH7Przc1N0r29vcxDnifsoW9eWFpaYt7e3h7pgoICS9qTygBCwgDCoWHq/f2dtP7Gi1JK1dTUkE5MTPxhtzDQ91tlZGQwT9/YoC9zlXL+jq5UBhASBhASBhAODW5ra2ukzf2tVVVV1vQICB+fP3+r6enpzFtcXCT9+PjIPGfvREtlACFhAOHQMLWwsEC6rq6OefqjWt5ISkoKu769vSUtw5QXImEAIWEA4dCcoe9FDQ8Pt7wzyJjPgOj7e6+vr5kXHx/vVBtSGUBIGEA4NEzppwuYGxK8Hf2/caWUio2NJX15ecm8nJwc59pw6rsElyBhACFhAOHQnKG/82U+g/GvoS/t7+7uLHlNqQwgJAwgJAwgHJoz9M1a5tESDQ0NpM01uTei75QJCAiw5DW9/7fmQUgYQDg0TFVXV5Oenp5m3vr6OumKioofdgsf/U5tXl6eJa8plQGEhAGEhAGEQ3OGvoTr6elh3uDgIGnzXbHMzEzSnrrsNZ9H0W8HpaWlWdKGZ/5mvBQJAwinT0jQ/wNViu89XV1dZV5xcTHpyspK5pmHeiGhb06bmppiXnBwMOmWlhbmObuhTyoDCAkDCAkDCMtO1dE3uO3v7zNveXmZ9NnZGfOamppIFxYWMu+3l8HmGeoDAwOkzXc2Ozo6SCckJFjSvlQGEBIGEL9yru3z8zPp3d1d5g0PD5M2h6m2tjbSrjqXXN+M193dzTz9QLPR0VHmRUVFWd4XqQwgJAwgJAwg3P75GVdXV6THx8eZt7W1Rbq1tZV5ZWVlpMPCwphnnmmutzE7O8s8fdmt311Wih+OrB847CqkMoCQMIBw+zBlD/2ArZmZmW+/znws+OTkhF3rw1RRURHzamtrScfFxTHvbx8FYTVSGUBIGEBIGEBAzxk65jOEOzs7pI+OjphnnmleXl5O2tw8gLRBAqcngoSBhMcMU/bQP23s/0AaiuzhGb38R5AwgJAwgPCKOcNbkMoAQsIAQsIAQsIAQsIAQsIAQsIAQsIAQsIAQsIAQsIAQsIAQsIA4j/mJ1PbqBlGwwAAAABJRU5ErkJggg==\" y=\"-8.711404\"/>\n   </g>\n   <g id=\"matplotlib.axis_1\">\n    <g id=\"xtick_1\">\n     <g id=\"line2d_1\">\n      <defs>\n       <path d=\"M 0 0 \nL 0 3.5 \n\" id=\"mdb33a05612\" style=\"stroke:#000000;stroke-width:0.8;\"/>\n      </defs>\n      <g>\n       <use style=\"stroke:#000000;stroke-width:0.8;\" x=\"28.683403\" xlink:href=\"#mdb33a05612\" y=\"107.711404\"/>\n      </g>\n     </g>\n     <g id=\"text_1\">\n      <!-- 0 -->\n      <g transform=\"translate(25.502153 122.309841)scale(0.1 -0.1)\">\n       <defs>\n        <path d=\"M 31.78125 66.40625 \nQ 24.171875 66.40625 20.328125 58.90625 \nQ 16.5 51.421875 16.5 36.375 \nQ 16.5 21.390625 20.328125 13.890625 \nQ 24.171875 6.390625 31.78125 6.390625 \nQ 39.453125 6.390625 43.28125 13.890625 \nQ 47.125 21.390625 47.125 36.375 \nQ 47.125 51.421875 43.28125 58.90625 \nQ 39.453125 66.40625 31.78125 66.40625 \nz\nM 31.78125 74.21875 \nQ 44.046875 74.21875 50.515625 64.515625 \nQ 56.984375 54.828125 56.984375 36.375 \nQ 56.984375 17.96875 50.515625 8.265625 \nQ 44.046875 -1.421875 31.78125 -1.421875 \nQ 19.53125 -1.421875 13.0625 8.265625 \nQ 6.59375 17.96875 6.59375 36.375 \nQ 6.59375 54.828125 13.0625 64.515625 \nQ 19.53125 74.21875 31.78125 74.21875 \nz\n\" id=\"DejaVuSans-48\"/>\n       </defs>\n       <use xlink:href=\"#DejaVuSans-48\"/>\n      </g>\n     </g>\n    </g>\n    <g id=\"xtick_2\">\n     <g id=\"line2d_2\">\n      <g>\n       <use style=\"stroke:#000000;stroke-width:0.8;\" x=\"63.851471\" xlink:href=\"#mdb33a05612\" y=\"107.711404\"/>\n      </g>\n     </g>\n     <g id=\"text_2\">\n      <!-- 10 -->\n      <g transform=\"translate(57.488971 122.309841)scale(0.1 -0.1)\">\n       <defs>\n        <path d=\"M 12.40625 8.296875 \nL 28.515625 8.296875 \nL 28.515625 63.921875 \nL 10.984375 60.40625 \nL 10.984375 69.390625 \nL 28.421875 72.90625 \nL 38.28125 72.90625 \nL 38.28125 8.296875 \nL 54.390625 8.296875 \nL 54.390625 0 \nL 12.40625 0 \nz\n\" id=\"DejaVuSans-49\"/>\n       </defs>\n       <use xlink:href=\"#DejaVuSans-49\"/>\n       <use x=\"63.623047\" xlink:href=\"#DejaVuSans-48\"/>\n      </g>\n     </g>\n    </g>\n    <g id=\"xtick_3\">\n     <g id=\"line2d_3\">\n      <g>\n       <use style=\"stroke:#000000;stroke-width:0.8;\" x=\"99.019538\" xlink:href=\"#mdb33a05612\" y=\"107.711404\"/>\n      </g>\n     </g>\n     <g id=\"text_3\">\n      <!-- 20 -->\n      <g transform=\"translate(92.657038 122.309841)scale(0.1 -0.1)\">\n       <defs>\n        <path d=\"M 19.1875 8.296875 \nL 53.609375 8.296875 \nL 53.609375 0 \nL 7.328125 0 \nL 7.328125 8.296875 \nQ 12.9375 14.109375 22.625 23.890625 \nQ 32.328125 33.6875 34.8125 36.53125 \nQ 39.546875 41.84375 41.421875 45.53125 \nQ 43.3125 49.21875 43.3125 52.78125 \nQ 43.3125 58.59375 39.234375 62.25 \nQ 35.15625 65.921875 28.609375 65.921875 \nQ 23.96875 65.921875 18.8125 64.3125 \nQ 13.671875 62.703125 7.8125 59.421875 \nL 7.8125 69.390625 \nQ 13.765625 71.78125 18.9375 73 \nQ 24.125 74.21875 28.421875 74.21875 \nQ 39.75 74.21875 46.484375 68.546875 \nQ 53.21875 62.890625 53.21875 53.421875 \nQ 53.21875 48.921875 51.53125 44.890625 \nQ 49.859375 40.875 45.40625 35.40625 \nQ 44.1875 33.984375 37.640625 27.21875 \nQ 31.109375 20.453125 19.1875 8.296875 \nz\n\" id=\"DejaVuSans-50\"/>\n       </defs>\n       <use xlink:href=\"#DejaVuSans-50\"/>\n       <use x=\"63.623047\" xlink:href=\"#DejaVuSans-48\"/>\n      </g>\n     </g>\n    </g>\n   </g>\n   <g id=\"matplotlib.axis_2\">\n    <g id=\"ytick_1\">\n     <g id=\"line2d_4\">\n      <defs>\n       <path d=\"M 0 0 \nL -3.5 0 \n\" id=\"m2031f71690\" style=\"stroke:#000000;stroke-width:0.8;\"/>\n      </defs>\n      <g>\n       <use style=\"stroke:#000000;stroke-width:0.8;\" x=\"26.925\" xlink:href=\"#m2031f71690\" y=\"10.999219\"/>\n      </g>\n     </g>\n     <g id=\"text_4\">\n      <!-- 0 -->\n      <g transform=\"translate(13.5625 14.798438)scale(0.1 -0.1)\">\n       <use xlink:href=\"#DejaVuSans-48\"/>\n      </g>\n     </g>\n    </g>\n    <g id=\"ytick_2\">\n     <g id=\"line2d_5\">\n      <g>\n       <use style=\"stroke:#000000;stroke-width:0.8;\" x=\"26.925\" xlink:href=\"#m2031f71690\" y=\"46.167286\"/>\n      </g>\n     </g>\n     <g id=\"text_5\">\n      <!-- 10 -->\n      <g transform=\"translate(7.2 49.966505)scale(0.1 -0.1)\">\n       <use xlink:href=\"#DejaVuSans-49\"/>\n       <use x=\"63.623047\" xlink:href=\"#DejaVuSans-48\"/>\n      </g>\n     </g>\n    </g>\n    <g id=\"ytick_3\">\n     <g id=\"line2d_6\">\n      <g>\n       <use style=\"stroke:#000000;stroke-width:0.8;\" x=\"26.925\" xlink:href=\"#m2031f71690\" y=\"81.335353\"/>\n      </g>\n     </g>\n     <g id=\"text_6\">\n      <!-- 20 -->\n      <g transform=\"translate(7.2 85.134572)scale(0.1 -0.1)\">\n       <use xlink:href=\"#DejaVuSans-50\"/>\n       <use x=\"63.623047\" xlink:href=\"#DejaVuSans-48\"/>\n      </g>\n     </g>\n    </g>\n   </g>\n   <g id=\"patch_3\">\n    <path d=\"M 26.925 107.711404 \nL 26.925 9.240815 \n\" style=\"fill:none;stroke:#000000;stroke-linecap:square;stroke-linejoin:miter;stroke-width:0.8;\"/>\n   </g>\n   <g id=\"patch_4\">\n    <path d=\"M 125.395588 107.711404 \nL 125.395588 9.240815 \n\" style=\"fill:none;stroke:#000000;stroke-linecap:square;stroke-linejoin:miter;stroke-width:0.8;\"/>\n   </g>\n   <g id=\"patch_5\">\n    <path d=\"M 26.925 107.711404 \nL 125.395588 107.711404 \n\" style=\"fill:none;stroke:#000000;stroke-linecap:square;stroke-linejoin:miter;stroke-width:0.8;\"/>\n   </g>\n   <g id=\"patch_6\">\n    <path d=\"M 26.925 9.240815 \nL 125.395588 9.240815 \n\" style=\"fill:none;stroke:#000000;stroke-linecap:square;stroke-linejoin:miter;stroke-width:0.8;\"/>\n   </g>\n  </g>\n  <g id=\"axes_2\">\n   <g id=\"patch_7\">\n    <path d=\"M 145.089706 107.711404 \nL 243.560294 107.711404 \nL 243.560294 9.240815 \nL 145.089706 9.240815 \nz\n\" style=\"fill:#ffffff;\"/>\n   </g>\n   <g clip-path=\"url(#pd5c9e28937)\">\n    <image height=\"99\" id=\"image38b5a8431e\" transform=\"scale(1 -1)translate(0 -99)\" width=\"99\" x=\"145.089706\" xlink:href=\"data:image/png;base64,\niVBORw0KGgoAAAANSUhEUgAAAGMAAABjCAYAAACPO76VAAADQElEQVR4nO2du2pqQRSGx2iighgjEhAkFoKVpUUaa8FHiC8h6Aul9AHE0kcwmHQiFmKhhqTwfkFPN2fWHLYxQuI/nP+r1rBwu+XLWsvL7B3f4XA4KALB1aVPgPyFMoCgDCAoAwjKAIIygKAMICgDCMoAgjKAoAwgKAMIygCCMoCgDCAoAwjKAIIygKAMICgDCMoAgjKAoAwgKAMIygCCMoCgDCAoAwjKAIIygKAMIAKXPoGfYLFYiPVoNPLMmVxdyb/NcDisY/syFp/Pp+NIJCJyiUTi9JM1n/+sR5EfgTKAcKZN2W1iMBjouNFoiFy73Rbr29tbHV9fX4uc2W52u53IrVYrHe/3e5EzW9pkMhG55+dnz+c7BisDCMoAgjKAcGZm2H25Uqno+PHxUeSq1apYx+NxHfv9fs/nsOeSPUO8KBaLYv3+/q7jZDJ50jGUYmVAQRlAONOmOp2OWD88POi4VquJnP1J+qcpFApi3Wq1dPz09HTycVgZQFAGEJQBhDMzYzgcinU6ndbxb88Im1KpJNb1el3HnBmOQhlAUAYQzswM86tupS4/J0zMzzxK/TvfTgXnFRHKQMKZNmW3JbttXZJMJiPWZptar9ciFwwGPY/DygCCMoCgDCCcmRn27gykeyOHQiGxvrm50fF8Phc5zgxHoAwgnGlTSG9lv+Lu7k7H0+lU5MzNETasDCAoAwjKAMKZmWFvPrPf6iJx7jfKrAwgKAMIZ9pUNBoV616vd6Ez+Zrtdqvj77RTVgYQlAEEZQDhzMywf/RvNps6Pna93W/w8fEh1ub1GalU6uTjsDKAoAwgoNuUWf6vr68i1+/3dWxfemze2UAp+Y2v/UnevCzZvrPB/f29ju1LiM1W+Pb2JnLZbNbzccdgZQBBGUBQBhDQM8O8A0632xW5XC6n45eXF5ELBOTLMvu7/TbY3DDw+fkpcsvlUsf2L42xWEzH9swol8vqHFgZQFAGED7kf85uthSzZXwXs8XYL3ez2ejY3hdrrmezmciNx2Mdm/uklFIqn8/r+Ng+KRtWBhCUAQRlAAE9M/43WBlAUAYQlAEEZQBBGUBQBhCUAQRlAEEZQFAGEJQBBGUAQRlA/AGWP7pxn2qfGQAAAABJRU5ErkJggg==\" y=\"-8.711404\"/>\n   </g>\n   <g id=\"matplotlib.axis_3\">\n    <g id=\"xtick_4\">\n     <g id=\"line2d_7\">\n      <g>\n       <use style=\"stroke:#000000;stroke-width:0.8;\" x=\"146.848109\" xlink:href=\"#mdb33a05612\" y=\"107.711404\"/>\n      </g>\n     </g>\n     <g id=\"text_7\">\n      <!-- 0 -->\n      <g transform=\"translate(143.666859 122.309841)scale(0.1 -0.1)\">\n       <use xlink:href=\"#DejaVuSans-48\"/>\n      </g>\n     </g>\n    </g>\n    <g id=\"xtick_5\">\n     <g id=\"line2d_8\">\n      <g>\n       <use style=\"stroke:#000000;stroke-width:0.8;\" x=\"182.016176\" xlink:href=\"#mdb33a05612\" y=\"107.711404\"/>\n      </g>\n     </g>\n     <g id=\"text_8\">\n      <!-- 10 -->\n      <g transform=\"translate(175.653676 122.309841)scale(0.1 -0.1)\">\n       <use xlink:href=\"#DejaVuSans-49\"/>\n       <use x=\"63.623047\" xlink:href=\"#DejaVuSans-48\"/>\n      </g>\n     </g>\n    </g>\n    <g id=\"xtick_6\">\n     <g id=\"line2d_9\">\n      <g>\n       <use style=\"stroke:#000000;stroke-width:0.8;\" x=\"217.184244\" xlink:href=\"#mdb33a05612\" y=\"107.711404\"/>\n      </g>\n     </g>\n     <g id=\"text_9\">\n      <!-- 20 -->\n      <g transform=\"translate(210.821744 122.309841)scale(0.1 -0.1)\">\n       <use xlink:href=\"#DejaVuSans-50\"/>\n       <use x=\"63.623047\" xlink:href=\"#DejaVuSans-48\"/>\n      </g>\n     </g>\n    </g>\n   </g>\n   <g id=\"matplotlib.axis_4\">\n    <g id=\"ytick_4\">\n     <g id=\"line2d_10\">\n      <g>\n       <use style=\"stroke:#000000;stroke-width:0.8;\" x=\"145.089706\" xlink:href=\"#m2031f71690\" y=\"10.999219\"/>\n      </g>\n     </g>\n     <g id=\"text_10\">\n      <!-- 0 -->\n      <g transform=\"translate(131.727206 14.798438)scale(0.1 -0.1)\">\n       <use xlink:href=\"#DejaVuSans-48\"/>\n      </g>\n     </g>\n    </g>\n    <g id=\"ytick_5\">\n     <g id=\"line2d_11\">\n      <g>\n       <use style=\"stroke:#000000;stroke-width:0.8;\" x=\"145.089706\" xlink:href=\"#m2031f71690\" y=\"46.167286\"/>\n      </g>\n     </g>\n     <g id=\"text_11\">\n      <!-- 10 -->\n      <g transform=\"translate(125.364706 49.966505)scale(0.1 -0.1)\">\n       <use xlink:href=\"#DejaVuSans-49\"/>\n       <use x=\"63.623047\" xlink:href=\"#DejaVuSans-48\"/>\n      </g>\n     </g>\n    </g>\n    <g id=\"ytick_6\">\n     <g id=\"line2d_12\">\n      <g>\n       <use style=\"stroke:#000000;stroke-width:0.8;\" x=\"145.089706\" xlink:href=\"#m2031f71690\" y=\"81.335353\"/>\n      </g>\n     </g>\n     <g id=\"text_12\">\n      <!-- 20 -->\n      <g transform=\"translate(125.364706 85.134572)scale(0.1 -0.1)\">\n       <use xlink:href=\"#DejaVuSans-50\"/>\n       <use x=\"63.623047\" xlink:href=\"#DejaVuSans-48\"/>\n      </g>\n     </g>\n    </g>\n   </g>\n   <g id=\"patch_8\">\n    <path d=\"M 145.089706 107.711404 \nL 145.089706 9.240815 \n\" style=\"fill:none;stroke:#000000;stroke-linecap:square;stroke-linejoin:miter;stroke-width:0.8;\"/>\n   </g>\n   <g id=\"patch_9\">\n    <path d=\"M 243.560294 107.711404 \nL 243.560294 9.240815 \n\" style=\"fill:none;stroke:#000000;stroke-linecap:square;stroke-linejoin:miter;stroke-width:0.8;\"/>\n   </g>\n   <g id=\"patch_10\">\n    <path d=\"M 145.089706 107.711404 \nL 243.560294 107.711404 \n\" style=\"fill:none;stroke:#000000;stroke-linecap:square;stroke-linejoin:miter;stroke-width:0.8;\"/>\n   </g>\n   <g id=\"patch_11\">\n    <path d=\"M 145.089706 9.240815 \nL 243.560294 9.240815 \n\" style=\"fill:none;stroke:#000000;stroke-linecap:square;stroke-linejoin:miter;stroke-width:0.8;\"/>\n   </g>\n  </g>\n  <g id=\"axes_3\">\n   <g id=\"patch_12\">\n    <path d=\"M 263.254412 107.711404 \nL 361.725 107.711404 \nL 361.725 9.240815 \nL 263.254412 9.240815 \nz\n\" style=\"fill:#ffffff;\"/>\n   </g>\n   <g clip-path=\"url(#p29a987cffa)\">\n    <image height=\"99\" id=\"imagee3312a4a80\" transform=\"scale(1 -1)translate(0 -99)\" width=\"99\" x=\"263.254412\" xlink:href=\"data:image/png;base64,\niVBORw0KGgoAAAANSUhEUgAAAGMAAABjCAYAAACPO76VAAAER0lEQVR4nO2cSyhtURzG90FIiTwmXhPMpEw8JkjKIxkoMpEiBmSglIGJISkZGHoNzCQMPEYyoJSiJBMGymNCJM+kzp39rf/qXvfc3d77fG7fb/T9++qspc9/r332XuuEwuFw2CEQxER7AuQLhgEEwwAiLtoTiJS3tzdVn5+fi87Pz1deUlJSIHPyGnYGEAwDiB9zmZqdnVX18vKy6O7ubuW1tbWpOj4+3r+JeQg7AwiGAQTDAAJ6zdjY2BC9srKivNbWVtEzMzPKq66uVnVOTo73k/MBdgYQDAOIENJT2+vra1W3tLSIXlxcVF5hYaHoqakp5b28vKh6ZGTEoxn6CzsDCIYBBMMAIuprxvv7u+jx8XHlmbek9iMPE3ut6ezsVPXCwsJvPxMNdgYQDAOIqH8DPzo6Ev3w8KC8/v7+iD4jKytL1U1NTaqenJwUPTExobzY2NiIxggCdgYQDAMIhgFE4GvG09OTqldXV0XX1NQoLy0tLaLPDIVCqu7t7VV1R0eH6N3dXeVVVVVFNEYQsDOAYBhABH6ZOjw8VLV52aqtrVVeTIy7/xV731RfX59o+yVVRUWF6GhvXGBnAMEwgGAYQASyZjw/P4uenp5W3uDgoGi/9siWlJSIXl9fV565hpWVlSnPvmX2G3YGEAwDiEAuU3Nzc6Jzc3OVV1pa6vv4KSkposvLy5W3vb0turi4WHlBHy1gZwDBMIBgGED4smacnZ2pemlpSfTa2pqeQJz/y5b5Ns/eh7u1tSX65uZGeQUFBb7Oy4adAQTDAMKzfVOfn5+ix8bGlGduGOjq6vJiOM8wj6ddXl4qb3R0NNC5sDOAYBhAMAwgXN9X2kvNwcGBaHvva09Pj9thfKehoUF0e3u78gYGBkSnp6f7Phd2BhAMAwiGAYTrNcM8V+E4jrO3tye6srJSeRkZGW6H8R3zO5D9qGR+fl700NCQ73NhZwDBMIBwfZmy98xeXFyIbm5uVh7SGYjvMG9lHcdx6urqRJsb4RzHn7eA7AwgGAYQDAMI12uG/bjZfIRu/4DjTyEzM1PV5k6SnZ0d5TU2Nno+PjsDCIYBhOvL1N3dnarNp5o/5Vb2b9TX14ve399Xnnnb69Xfy84AgmEAwTCA8GwH2dXVleiTkxPlpaamis7OzlZe0Gcg/gXzXMfm5qbyzLeZeXl5nozHzgCCYQDh+jJVVFSkavMb+PDwsPLu7+9FPz4+Ks88XpyQkKA883Y5MTFReeYLK/uIsr1ZwvSTk5OVZ9cmHx8fok9PT5V3fHwsmpep/xCGAQTDACLwH4y01wxz+NfXV+WZv8xmb4C4vb394xjf/Un2+PYbS5PvbrvNzQteneNgZwDBMICI+u/aki/YGUAwDCAYBhAMAwiGAQTDAIJhAMEwgGAYQDAMIBgGEAwDCIYBBMMAgmEAwTCAYBhAMAwgGAYQDAMIhgEEwwCCYQDBMID4BU+o/8MlmbLNAAAAAElFTkSuQmCC\" y=\"-8.711404\"/>\n   </g>\n   <g id=\"matplotlib.axis_5\">\n    <g id=\"xtick_7\">\n     <g id=\"line2d_13\">\n      <g>\n       <use style=\"stroke:#000000;stroke-width:0.8;\" x=\"265.012815\" xlink:href=\"#mdb33a05612\" y=\"107.711404\"/>\n      </g>\n     </g>\n     <g id=\"text_13\">\n      <!-- 0 -->\n      <g transform=\"translate(261.831565 122.309841)scale(0.1 -0.1)\">\n       <use xlink:href=\"#DejaVuSans-48\"/>\n      </g>\n     </g>\n    </g>\n    <g id=\"xtick_8\">\n     <g id=\"line2d_14\">\n      <g>\n       <use style=\"stroke:#000000;stroke-width:0.8;\" x=\"300.180882\" xlink:href=\"#mdb33a05612\" y=\"107.711404\"/>\n      </g>\n     </g>\n     <g id=\"text_14\">\n      <!-- 10 -->\n      <g transform=\"translate(293.818382 122.309841)scale(0.1 -0.1)\">\n       <use xlink:href=\"#DejaVuSans-49\"/>\n       <use x=\"63.623047\" xlink:href=\"#DejaVuSans-48\"/>\n      </g>\n     </g>\n    </g>\n    <g id=\"xtick_9\">\n     <g id=\"line2d_15\">\n      <g>\n       <use style=\"stroke:#000000;stroke-width:0.8;\" x=\"335.34895\" xlink:href=\"#mdb33a05612\" y=\"107.711404\"/>\n      </g>\n     </g>\n     <g id=\"text_15\">\n      <!-- 20 -->\n      <g transform=\"translate(328.98645 122.309841)scale(0.1 -0.1)\">\n       <use xlink:href=\"#DejaVuSans-50\"/>\n       <use x=\"63.623047\" xlink:href=\"#DejaVuSans-48\"/>\n      </g>\n     </g>\n    </g>\n   </g>\n   <g id=\"matplotlib.axis_6\">\n    <g id=\"ytick_7\">\n     <g id=\"line2d_16\">\n      <g>\n       <use style=\"stroke:#000000;stroke-width:0.8;\" x=\"263.254412\" xlink:href=\"#m2031f71690\" y=\"10.999219\"/>\n      </g>\n     </g>\n     <g id=\"text_16\">\n      <!-- 0 -->\n      <g transform=\"translate(249.891912 14.798438)scale(0.1 -0.1)\">\n       <use xlink:href=\"#DejaVuSans-48\"/>\n      </g>\n     </g>\n    </g>\n    <g id=\"ytick_8\">\n     <g id=\"line2d_17\">\n      <g>\n       <use style=\"stroke:#000000;stroke-width:0.8;\" x=\"263.254412\" xlink:href=\"#m2031f71690\" y=\"46.167286\"/>\n      </g>\n     </g>\n     <g id=\"text_17\">\n      <!-- 10 -->\n      <g transform=\"translate(243.529412 49.966505)scale(0.1 -0.1)\">\n       <use xlink:href=\"#DejaVuSans-49\"/>\n       <use x=\"63.623047\" xlink:href=\"#DejaVuSans-48\"/>\n      </g>\n     </g>\n    </g>\n    <g id=\"ytick_9\">\n     <g id=\"line2d_18\">\n      <g>\n       <use style=\"stroke:#000000;stroke-width:0.8;\" x=\"263.254412\" xlink:href=\"#m2031f71690\" y=\"81.335353\"/>\n      </g>\n     </g>\n     <g id=\"text_18\">\n      <!-- 20 -->\n      <g transform=\"translate(243.529412 85.134572)scale(0.1 -0.1)\">\n       <use xlink:href=\"#DejaVuSans-50\"/>\n       <use x=\"63.623047\" xlink:href=\"#DejaVuSans-48\"/>\n      </g>\n     </g>\n    </g>\n   </g>\n   <g id=\"patch_13\">\n    <path d=\"M 263.254412 107.711404 \nL 263.254412 9.240815 \n\" style=\"fill:none;stroke:#000000;stroke-linecap:square;stroke-linejoin:miter;stroke-width:0.8;\"/>\n   </g>\n   <g id=\"patch_14\">\n    <path d=\"M 361.725 107.711404 \nL 361.725 9.240815 \n\" style=\"fill:none;stroke:#000000;stroke-linecap:square;stroke-linejoin:miter;stroke-width:0.8;\"/>\n   </g>\n   <g id=\"patch_15\">\n    <path d=\"M 263.254412 107.711404 \nL 361.725 107.711404 \n\" style=\"fill:none;stroke:#000000;stroke-linecap:square;stroke-linejoin:miter;stroke-width:0.8;\"/>\n   </g>\n   <g id=\"patch_16\">\n    <path d=\"M 263.254412 9.240815 \nL 361.725 9.240815 \n\" style=\"fill:none;stroke:#000000;stroke-linecap:square;stroke-linejoin:miter;stroke-width:0.8;\"/>\n   </g>\n  </g>\n </g>\n <defs>\n  <clipPath id=\"pc030a6f4e2\">\n   <rect height=\"98.470588\" width=\"98.470588\" x=\"26.925\" y=\"9.240815\"/>\n  </clipPath>\n  <clipPath id=\"pd5c9e28937\">\n   <rect height=\"98.470588\" width=\"98.470588\" x=\"145.089706\" y=\"9.240815\"/>\n  </clipPath>\n  <clipPath id=\"p29a987cffa\">\n   <rect height=\"98.470588\" width=\"98.470588\" x=\"263.254412\" y=\"9.240815\"/>\n  </clipPath>\n </defs>\n</svg>\n",
      "image/png": "[encoded data removed]"
     },
     "metadata": {
      "needs_background": "light"
     }
    }
   ],
   "source": [
    "plt.figure(1)\n",
    "plt.subplot(131)\n",
    "plt.imshow(images_plt_circles[1])\n",
    "plt.subplot(132)\n",
    "plt.imshow(images_plt_squares[1])\n",
    "plt.subplot(133)\n",
    "plt.imshow(images_plt_triangles[1])"
   ]
  },
  {
   "cell_type": "code",
   "execution_count": 7,
   "metadata": {},
   "outputs": [
    {
     "output_type": "execute_result",
     "data": {
      "text/plain": [
       "<matplotlib.image.AxesImage at 0x7f26c0f2f790>"
      ]
     },
     "metadata": {},
     "execution_count": 7
    },
    {
     "output_type": "display_data",
     "data": {
      "text/plain": "<Figure size 432x288 with 1 Axes>",
      "image/svg+xml": "<?xml version=\"1.0\" encoding=\"utf-8\" standalone=\"no\"?>\n<!DOCTYPE svg PUBLIC \"-//W3C//DTD SVG 1.1//EN\"\n  \"http://www.w3.org/Graphics/SVG/1.1/DTD/svg11.dtd\">\n<!-- Created with matplotlib (https://matplotlib.org/) -->\n<svg height=\"248.518125pt\" version=\"1.1\" viewBox=\"0 0 251.565 248.518125\" width=\"251.565pt\" xmlns=\"http://www.w3.org/2000/svg\" xmlns:xlink=\"http://www.w3.org/1999/xlink\">\n <metadata>\n  <rdf:RDF xmlns:cc=\"http://creativecommons.org/ns#\" xmlns:dc=\"http://purl.org/dc/elements/1.1/\" xmlns:rdf=\"http://www.w3.org/1999/02/22-rdf-syntax-ns#\">\n   <cc:Work>\n    <dc:type rdf:resource=\"http://purl.org/dc/dcmitype/StillImage\"/>\n    <dc:date>2021-02-18T15:05:24.658346</dc:date>\n    <dc:format>image/svg+xml</dc:format>\n    <dc:creator>\n     <cc:Agent>\n      <dc:title>Matplotlib v3.3.3, https://matplotlib.org/</dc:title>\n     </cc:Agent>\n    </dc:creator>\n   </cc:Work>\n  </rdf:RDF>\n </metadata>\n <defs>\n  <style type=\"text/css\">*{stroke-linecap:butt;stroke-linejoin:round;}</style>\n </defs>\n <g id=\"figure_1\">\n  <g id=\"patch_1\">\n   <path d=\"M 0 248.518125 \nL 251.565 248.518125 \nL 251.565 0 \nL 0 0 \nz\n\" style=\"fill:none;\"/>\n  </g>\n  <g id=\"axes_1\">\n   <g id=\"patch_2\">\n    <path d=\"M 26.925 224.64 \nL 244.365 224.64 \nL 244.365 7.2 \nL 26.925 7.2 \nz\n\" style=\"fill:#ffffff;\"/>\n   </g>\n   <g clip-path=\"url(#p178d312d29)\">\n    <image height=\"218\" id=\"imagee1414ef456\" transform=\"scale(1 -1)translate(0 -218)\" width=\"218\" x=\"26.925\" xlink:href=\"data:image/png;base64,\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\" y=\"-6.64\"/>\n   </g>\n   <g id=\"matplotlib.axis_1\">\n    <g id=\"xtick_1\">\n     <g id=\"line2d_1\">\n      <defs>\n       <path d=\"M 0 0 \nL 0 3.5 \n\" id=\"ma9425d3b38\" style=\"stroke:#000000;stroke-width:0.8;\"/>\n      </defs>\n      <g>\n       <use style=\"stroke:#000000;stroke-width:0.8;\" x=\"30.807857\" xlink:href=\"#ma9425d3b38\" y=\"224.64\"/>\n      </g>\n     </g>\n     <g id=\"text_1\">\n      <!-- 0 -->\n      <g transform=\"translate(27.626607 239.238437)scale(0.1 -0.1)\">\n       <defs>\n        <path d=\"M 31.78125 66.40625 \nQ 24.171875 66.40625 20.328125 58.90625 \nQ 16.5 51.421875 16.5 36.375 \nQ 16.5 21.390625 20.328125 13.890625 \nQ 24.171875 6.390625 31.78125 6.390625 \nQ 39.453125 6.390625 43.28125 13.890625 \nQ 47.125 21.390625 47.125 36.375 \nQ 47.125 51.421875 43.28125 58.90625 \nQ 39.453125 66.40625 31.78125 66.40625 \nz\nM 31.78125 74.21875 \nQ 44.046875 74.21875 50.515625 64.515625 \nQ 56.984375 54.828125 56.984375 36.375 \nQ 56.984375 17.96875 50.515625 8.265625 \nQ 44.046875 -1.421875 31.78125 -1.421875 \nQ 19.53125 -1.421875 13.0625 8.265625 \nQ 6.59375 17.96875 6.59375 36.375 \nQ 6.59375 54.828125 13.0625 64.515625 \nQ 19.53125 74.21875 31.78125 74.21875 \nz\n\" id=\"DejaVuSans-48\"/>\n       </defs>\n       <use xlink:href=\"#DejaVuSans-48\"/>\n      </g>\n     </g>\n    </g>\n    <g id=\"xtick_2\">\n     <g id=\"line2d_2\">\n      <g>\n       <use style=\"stroke:#000000;stroke-width:0.8;\" x=\"69.636429\" xlink:href=\"#ma9425d3b38\" y=\"224.64\"/>\n      </g>\n     </g>\n     <g id=\"text_2\">\n      <!-- 5 -->\n      <g transform=\"translate(66.455179 239.238437)scale(0.1 -0.1)\">\n       <defs>\n        <path d=\"M 10.796875 72.90625 \nL 49.515625 72.90625 \nL 49.515625 64.59375 \nL 19.828125 64.59375 \nL 19.828125 46.734375 \nQ 21.96875 47.46875 24.109375 47.828125 \nQ 26.265625 48.1875 28.421875 48.1875 \nQ 40.625 48.1875 47.75 41.5 \nQ 54.890625 34.8125 54.890625 23.390625 \nQ 54.890625 11.625 47.5625 5.09375 \nQ 40.234375 -1.421875 26.90625 -1.421875 \nQ 22.3125 -1.421875 17.546875 -0.640625 \nQ 12.796875 0.140625 7.71875 1.703125 \nL 7.71875 11.625 \nQ 12.109375 9.234375 16.796875 8.0625 \nQ 21.484375 6.890625 26.703125 6.890625 \nQ 35.15625 6.890625 40.078125 11.328125 \nQ 45.015625 15.765625 45.015625 23.390625 \nQ 45.015625 31 40.078125 35.4375 \nQ 35.15625 39.890625 26.703125 39.890625 \nQ 22.75 39.890625 18.8125 39.015625 \nQ 14.890625 38.140625 10.796875 36.28125 \nz\n\" id=\"DejaVuSans-53\"/>\n       </defs>\n       <use xlink:href=\"#DejaVuSans-53\"/>\n      </g>\n     </g>\n    </g>\n    <g id=\"xtick_3\">\n     <g id=\"line2d_3\">\n      <g>\n       <use style=\"stroke:#000000;stroke-width:0.8;\" x=\"108.465\" xlink:href=\"#ma9425d3b38\" y=\"224.64\"/>\n      </g>\n     </g>\n     <g id=\"text_3\">\n      <!-- 10 -->\n      <g transform=\"translate(102.1025 239.238437)scale(0.1 -0.1)\">\n       <defs>\n        <path d=\"M 12.40625 8.296875 \nL 28.515625 8.296875 \nL 28.515625 63.921875 \nL 10.984375 60.40625 \nL 10.984375 69.390625 \nL 28.421875 72.90625 \nL 38.28125 72.90625 \nL 38.28125 8.296875 \nL 54.390625 8.296875 \nL 54.390625 0 \nL 12.40625 0 \nz\n\" id=\"DejaVuSans-49\"/>\n       </defs>\n       <use xlink:href=\"#DejaVuSans-49\"/>\n       <use x=\"63.623047\" xlink:href=\"#DejaVuSans-48\"/>\n      </g>\n     </g>\n    </g>\n    <g id=\"xtick_4\">\n     <g id=\"line2d_4\">\n      <g>\n       <use style=\"stroke:#000000;stroke-width:0.8;\" x=\"147.293571\" xlink:href=\"#ma9425d3b38\" y=\"224.64\"/>\n      </g>\n     </g>\n     <g id=\"text_4\">\n      <!-- 15 -->\n      <g transform=\"translate(140.931071 239.238437)scale(0.1 -0.1)\">\n       <use xlink:href=\"#DejaVuSans-49\"/>\n       <use x=\"63.623047\" xlink:href=\"#DejaVuSans-53\"/>\n      </g>\n     </g>\n    </g>\n    <g id=\"xtick_5\">\n     <g id=\"line2d_5\">\n      <g>\n       <use style=\"stroke:#000000;stroke-width:0.8;\" x=\"186.122143\" xlink:href=\"#ma9425d3b38\" y=\"224.64\"/>\n      </g>\n     </g>\n     <g id=\"text_5\">\n      <!-- 20 -->\n      <g transform=\"translate(179.759643 239.238437)scale(0.1 -0.1)\">\n       <defs>\n        <path d=\"M 19.1875 8.296875 \nL 53.609375 8.296875 \nL 53.609375 0 \nL 7.328125 0 \nL 7.328125 8.296875 \nQ 12.9375 14.109375 22.625 23.890625 \nQ 32.328125 33.6875 34.8125 36.53125 \nQ 39.546875 41.84375 41.421875 45.53125 \nQ 43.3125 49.21875 43.3125 52.78125 \nQ 43.3125 58.59375 39.234375 62.25 \nQ 35.15625 65.921875 28.609375 65.921875 \nQ 23.96875 65.921875 18.8125 64.3125 \nQ 13.671875 62.703125 7.8125 59.421875 \nL 7.8125 69.390625 \nQ 13.765625 71.78125 18.9375 73 \nQ 24.125 74.21875 28.421875 74.21875 \nQ 39.75 74.21875 46.484375 68.546875 \nQ 53.21875 62.890625 53.21875 53.421875 \nQ 53.21875 48.921875 51.53125 44.890625 \nQ 49.859375 40.875 45.40625 35.40625 \nQ 44.1875 33.984375 37.640625 27.21875 \nQ 31.109375 20.453125 19.1875 8.296875 \nz\n\" id=\"DejaVuSans-50\"/>\n       </defs>\n       <use xlink:href=\"#DejaVuSans-50\"/>\n       <use x=\"63.623047\" xlink:href=\"#DejaVuSans-48\"/>\n      </g>\n     </g>\n    </g>\n    <g id=\"xtick_6\">\n     <g id=\"line2d_6\">\n      <g>\n       <use style=\"stroke:#000000;stroke-width:0.8;\" x=\"224.950714\" xlink:href=\"#ma9425d3b38\" y=\"224.64\"/>\n      </g>\n     </g>\n     <g id=\"text_6\">\n      <!-- 25 -->\n      <g transform=\"translate(218.588214 239.238437)scale(0.1 -0.1)\">\n       <use xlink:href=\"#DejaVuSans-50\"/>\n       <use x=\"63.623047\" xlink:href=\"#DejaVuSans-53\"/>\n      </g>\n     </g>\n    </g>\n   </g>\n   <g id=\"matplotlib.axis_2\">\n    <g id=\"ytick_1\">\n     <g id=\"line2d_7\">\n      <defs>\n       <path d=\"M 0 0 \nL -3.5 0 \n\" id=\"m577612a3b8\" style=\"stroke:#000000;stroke-width:0.8;\"/>\n      </defs>\n      <g>\n       <use style=\"stroke:#000000;stroke-width:0.8;\" x=\"26.925\" xlink:href=\"#m577612a3b8\" y=\"11.082857\"/>\n      </g>\n     </g>\n     <g id=\"text_7\">\n      <!-- 0 -->\n      <g transform=\"translate(13.5625 14.882076)scale(0.1 -0.1)\">\n       <use xlink:href=\"#DejaVuSans-48\"/>\n      </g>\n     </g>\n    </g>\n    <g id=\"ytick_2\">\n     <g id=\"line2d_8\">\n      <g>\n       <use style=\"stroke:#000000;stroke-width:0.8;\" x=\"26.925\" xlink:href=\"#m577612a3b8\" y=\"49.911429\"/>\n      </g>\n     </g>\n     <g id=\"text_8\">\n      <!-- 5 -->\n      <g transform=\"translate(13.5625 53.710647)scale(0.1 -0.1)\">\n       <use xlink:href=\"#DejaVuSans-53\"/>\n      </g>\n     </g>\n    </g>\n    <g id=\"ytick_3\">\n     <g id=\"line2d_9\">\n      <g>\n       <use style=\"stroke:#000000;stroke-width:0.8;\" x=\"26.925\" xlink:href=\"#m577612a3b8\" y=\"88.74\"/>\n      </g>\n     </g>\n     <g id=\"text_9\">\n      <!-- 10 -->\n      <g transform=\"translate(7.2 92.539219)scale(0.1 -0.1)\">\n       <use xlink:href=\"#DejaVuSans-49\"/>\n       <use x=\"63.623047\" xlink:href=\"#DejaVuSans-48\"/>\n      </g>\n     </g>\n    </g>\n    <g id=\"ytick_4\">\n     <g id=\"line2d_10\">\n      <g>\n       <use style=\"stroke:#000000;stroke-width:0.8;\" x=\"26.925\" xlink:href=\"#m577612a3b8\" y=\"127.568571\"/>\n      </g>\n     </g>\n     <g id=\"text_10\">\n      <!-- 15 -->\n      <g transform=\"translate(7.2 131.36779)scale(0.1 -0.1)\">\n       <use xlink:href=\"#DejaVuSans-49\"/>\n       <use x=\"63.623047\" xlink:href=\"#DejaVuSans-53\"/>\n      </g>\n     </g>\n    </g>\n    <g id=\"ytick_5\">\n     <g id=\"line2d_11\">\n      <g>\n       <use style=\"stroke:#000000;stroke-width:0.8;\" x=\"26.925\" xlink:href=\"#m577612a3b8\" y=\"166.397143\"/>\n      </g>\n     </g>\n     <g id=\"text_11\">\n      <!-- 20 -->\n      <g transform=\"translate(7.2 170.196362)scale(0.1 -0.1)\">\n       <use xlink:href=\"#DejaVuSans-50\"/>\n       <use x=\"63.623047\" xlink:href=\"#DejaVuSans-48\"/>\n      </g>\n     </g>\n    </g>\n    <g id=\"ytick_6\">\n     <g id=\"line2d_12\">\n      <g>\n       <use style=\"stroke:#000000;stroke-width:0.8;\" x=\"26.925\" xlink:href=\"#m577612a3b8\" y=\"205.225714\"/>\n      </g>\n     </g>\n     <g id=\"text_12\">\n      <!-- 25 -->\n      <g transform=\"translate(7.2 209.024933)scale(0.1 -0.1)\">\n       <use xlink:href=\"#DejaVuSans-50\"/>\n       <use x=\"63.623047\" xlink:href=\"#DejaVuSans-53\"/>\n      </g>\n     </g>\n    </g>\n   </g>\n   <g id=\"patch_3\">\n    <path d=\"M 26.925 224.64 \nL 26.925 7.2 \n\" style=\"fill:none;stroke:#000000;stroke-linecap:square;stroke-linejoin:miter;stroke-width:0.8;\"/>\n   </g>\n   <g id=\"patch_4\">\n    <path d=\"M 244.365 224.64 \nL 244.365 7.2 \n\" style=\"fill:none;stroke:#000000;stroke-linecap:square;stroke-linejoin:miter;stroke-width:0.8;\"/>\n   </g>\n   <g id=\"patch_5\">\n    <path d=\"M 26.925 224.64 \nL 244.365 224.64 \n\" style=\"fill:none;stroke:#000000;stroke-linecap:square;stroke-linejoin:miter;stroke-width:0.8;\"/>\n   </g>\n   <g id=\"patch_6\">\n    <path d=\"M 26.925 7.2 \nL 244.365 7.2 \n\" style=\"fill:none;stroke:#000000;stroke-linecap:square;stroke-linejoin:miter;stroke-width:0.8;\"/>\n   </g>\n  </g>\n </g>\n <defs>\n  <clipPath id=\"p178d312d29\">\n   <rect height=\"217.44\" width=\"217.44\" x=\"26.925\" y=\"7.2\"/>\n  </clipPath>\n </defs>\n</svg>\n",
      "image/png": "[encoded data removed]"
     },
     "metadata": {
      "needs_background": "light"
     }
    }
   ],
   "source": [
    "plt.imshow(images_plt_triangles[1])"
   ]
  },
  {
   "cell_type": "code",
   "execution_count": 8,
   "metadata": {},
   "outputs": [],
   "source": [
    "images_circles = np.array(images_plt_circles)"
   ]
  },
  {
   "cell_type": "code",
   "execution_count": 9,
   "metadata": {},
   "outputs": [
    {
     "output_type": "execute_result",
     "data": {
      "text/plain": [
       "(28, 28, 3)"
      ]
     },
     "metadata": {},
     "execution_count": 9
    }
   ],
   "source": [
    "images_circles[1].shape"
   ]
  },
  {
   "cell_type": "code",
   "execution_count": 10,
   "metadata": {},
   "outputs": [],
   "source": [
    "def make_padding(image):\n",
    "    b1 = np.ones((8,28,3))\n",
    "    b2 = np.ones((44,8,3))\n",
    "    rect = np.concatenate(\n",
    "        (np.concatenate((b1,image),axis = 0),b1),\n",
    "        axis = 0\n",
    "        )\n",
    "    padd_image = np.concatenate(\n",
    "        (np.concatenate((b2,rect),axis = 1),b2),\n",
    "        axis = 1\n",
    "        )\n",
    "    return padd_image"
   ]
  },
  {
   "cell_type": "code",
   "execution_count": 11,
   "metadata": {},
   "outputs": [],
   "source": [
    "padd = make_padding(images_circles[1])"
   ]
  },
  {
   "cell_type": "code",
   "execution_count": 12,
   "metadata": {},
   "outputs": [
    {
     "output_type": "execute_result",
     "data": {
      "text/plain": [
       "(44, 44, 3)"
      ]
     },
     "metadata": {},
     "execution_count": 12
    }
   ],
   "source": [
    "padd.shape"
   ]
  },
  {
   "cell_type": "code",
   "execution_count": 13,
   "metadata": {},
   "outputs": [
    {
     "output_type": "execute_result",
     "data": {
      "text/plain": [
       "<matplotlib.image.AxesImage at 0x7f15b6373c40>"
      ]
     },
     "metadata": {},
     "execution_count": 13
    },
    {
     "output_type": "display_data",
     "data": {
      "text/plain": "<Figure size 432x288 with 1 Axes>",
      "image/svg+xml": "<?xml version=\"1.0\" encoding=\"utf-8\" standalone=\"no\"?>\n<!DOCTYPE svg PUBLIC \"-//W3C//DTD SVG 1.1//EN\"\n  \"http://www.w3.org/Graphics/SVG/1.1/DTD/svg11.dtd\">\n<!-- Created with matplotlib (https://matplotlib.org/) -->\n<svg height=\"249.846435pt\" version=\"1.1\" viewBox=\"0 0 251.565 249.846435\" width=\"251.565pt\" xmlns=\"http://www.w3.org/2000/svg\" xmlns:xlink=\"http://www.w3.org/1999/xlink\">\n <metadata>\n  <rdf:RDF xmlns:cc=\"http://creativecommons.org/ns#\" xmlns:dc=\"http://purl.org/dc/elements/1.1/\" xmlns:rdf=\"http://www.w3.org/1999/02/22-rdf-syntax-ns#\">\n   <cc:Work>\n    <dc:type rdf:resource=\"http://purl.org/dc/dcmitype/StillImage\"/>\n    <dc:date>2021-02-17T14:07:30.062013</dc:date>\n    <dc:format>image/svg+xml</dc:format>\n    <dc:creator>\n     <cc:Agent>\n      <dc:title>Matplotlib v3.3.3, https://matplotlib.org/</dc:title>\n     </cc:Agent>\n    </dc:creator>\n   </cc:Work>\n  </rdf:RDF>\n </metadata>\n <defs>\n  <style type=\"text/css\">*{stroke-linecap:butt;stroke-linejoin:round;}</style>\n </defs>\n <g id=\"figure_1\">\n  <g id=\"patch_1\">\n   <path d=\"M 0 249.846435 \nL 251.565 249.846435 \nL 251.565 0 \nL 0 0 \nz\n\" style=\"fill:none;\"/>\n  </g>\n  <g id=\"axes_1\">\n   <g id=\"patch_2\">\n    <path d=\"M 26.925 225.96831 \nL 244.365 225.96831 \nL 244.365 8.52831 \nL 26.925 8.52831 \nz\n\" style=\"fill:#ffffff;\"/>\n   </g>\n   <g clip-path=\"url(#pf21ad25059)\">\n    <image height=\"218\" id=\"image10a6f0f17c\" transform=\"scale(1 -1)translate(0 -218)\" width=\"218\" x=\"26.925\" xlink:href=\"data:image/png;base64,\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\" y=\"-7.96831\"/>\n   </g>\n   <g id=\"matplotlib.axis_1\">\n    <g id=\"xtick_1\">\n     <g id=\"line2d_1\">\n      <defs>\n       <path d=\"M 0 0 \nL 0 3.5 \n\" id=\"mccfeaf203e\" style=\"stroke:#000000;stroke-width:0.8;\"/>\n      </defs>\n      <g>\n       <use style=\"stroke:#000000;stroke-width:0.8;\" x=\"29.395909\" xlink:href=\"#mccfeaf203e\" y=\"225.96831\"/>\n      </g>\n     </g>\n     <g id=\"text_1\">\n      <!-- 0 -->\n      <g transform=\"translate(26.214659 240.566747)scale(0.1 -0.1)\">\n       <defs>\n        <path d=\"M 31.78125 66.40625 \nQ 24.171875 66.40625 20.328125 58.90625 \nQ 16.5 51.421875 16.5 36.375 \nQ 16.5 21.390625 20.328125 13.890625 \nQ 24.171875 6.390625 31.78125 6.390625 \nQ 39.453125 6.390625 43.28125 13.890625 \nQ 47.125 21.390625 47.125 36.375 \nQ 47.125 51.421875 43.28125 58.90625 \nQ 39.453125 66.40625 31.78125 66.40625 \nz\nM 31.78125 74.21875 \nQ 44.046875 74.21875 50.515625 64.515625 \nQ 56.984375 54.828125 56.984375 36.375 \nQ 56.984375 17.96875 50.515625 8.265625 \nQ 44.046875 -1.421875 31.78125 -1.421875 \nQ 19.53125 -1.421875 13.0625 8.265625 \nQ 6.59375 17.96875 6.59375 36.375 \nQ 6.59375 54.828125 13.0625 64.515625 \nQ 19.53125 74.21875 31.78125 74.21875 \nz\n\" id=\"DejaVuSans-48\"/>\n       </defs>\n       <use xlink:href=\"#DejaVuSans-48\"/>\n      </g>\n     </g>\n    </g>\n    <g id=\"xtick_2\">\n     <g id=\"line2d_2\">\n      <g>\n       <use style=\"stroke:#000000;stroke-width:0.8;\" x=\"78.814091\" xlink:href=\"#mccfeaf203e\" y=\"225.96831\"/>\n      </g>\n     </g>\n     <g id=\"text_2\">\n      <!-- 10 -->\n      <g transform=\"translate(72.451591 240.566747)scale(0.1 -0.1)\">\n       <defs>\n        <path d=\"M 12.40625 8.296875 \nL 28.515625 8.296875 \nL 28.515625 63.921875 \nL 10.984375 60.40625 \nL 10.984375 69.390625 \nL 28.421875 72.90625 \nL 38.28125 72.90625 \nL 38.28125 8.296875 \nL 54.390625 8.296875 \nL 54.390625 0 \nL 12.40625 0 \nz\n\" id=\"DejaVuSans-49\"/>\n       </defs>\n       <use xlink:href=\"#DejaVuSans-49\"/>\n       <use x=\"63.623047\" xlink:href=\"#DejaVuSans-48\"/>\n      </g>\n     </g>\n    </g>\n    <g id=\"xtick_3\">\n     <g id=\"line2d_3\">\n      <g>\n       <use style=\"stroke:#000000;stroke-width:0.8;\" x=\"128.232273\" xlink:href=\"#mccfeaf203e\" y=\"225.96831\"/>\n      </g>\n     </g>\n     <g id=\"text_3\">\n      <!-- 20 -->\n      <g transform=\"translate(121.869773 240.566747)scale(0.1 -0.1)\">\n       <defs>\n        <path d=\"M 19.1875 8.296875 \nL 53.609375 8.296875 \nL 53.609375 0 \nL 7.328125 0 \nL 7.328125 8.296875 \nQ 12.9375 14.109375 22.625 23.890625 \nQ 32.328125 33.6875 34.8125 36.53125 \nQ 39.546875 41.84375 41.421875 45.53125 \nQ 43.3125 49.21875 43.3125 52.78125 \nQ 43.3125 58.59375 39.234375 62.25 \nQ 35.15625 65.921875 28.609375 65.921875 \nQ 23.96875 65.921875 18.8125 64.3125 \nQ 13.671875 62.703125 7.8125 59.421875 \nL 7.8125 69.390625 \nQ 13.765625 71.78125 18.9375 73 \nQ 24.125 74.21875 28.421875 74.21875 \nQ 39.75 74.21875 46.484375 68.546875 \nQ 53.21875 62.890625 53.21875 53.421875 \nQ 53.21875 48.921875 51.53125 44.890625 \nQ 49.859375 40.875 45.40625 35.40625 \nQ 44.1875 33.984375 37.640625 27.21875 \nQ 31.109375 20.453125 19.1875 8.296875 \nz\n\" id=\"DejaVuSans-50\"/>\n       </defs>\n       <use xlink:href=\"#DejaVuSans-50\"/>\n       <use x=\"63.623047\" xlink:href=\"#DejaVuSans-48\"/>\n      </g>\n     </g>\n    </g>\n    <g id=\"xtick_4\">\n     <g id=\"line2d_4\">\n      <g>\n       <use style=\"stroke:#000000;stroke-width:0.8;\" x=\"177.650455\" xlink:href=\"#mccfeaf203e\" y=\"225.96831\"/>\n      </g>\n     </g>\n     <g id=\"text_4\">\n      <!-- 30 -->\n      <g transform=\"translate(171.287955 240.566747)scale(0.1 -0.1)\">\n       <defs>\n        <path d=\"M 40.578125 39.3125 \nQ 47.65625 37.796875 51.625 33 \nQ 55.609375 28.21875 55.609375 21.1875 \nQ 55.609375 10.40625 48.1875 4.484375 \nQ 40.765625 -1.421875 27.09375 -1.421875 \nQ 22.515625 -1.421875 17.65625 -0.515625 \nQ 12.796875 0.390625 7.625 2.203125 \nL 7.625 11.71875 \nQ 11.71875 9.328125 16.59375 8.109375 \nQ 21.484375 6.890625 26.8125 6.890625 \nQ 36.078125 6.890625 40.9375 10.546875 \nQ 45.796875 14.203125 45.796875 21.1875 \nQ 45.796875 27.640625 41.28125 31.265625 \nQ 36.765625 34.90625 28.71875 34.90625 \nL 20.21875 34.90625 \nL 20.21875 43.015625 \nL 29.109375 43.015625 \nQ 36.375 43.015625 40.234375 45.921875 \nQ 44.09375 48.828125 44.09375 54.296875 \nQ 44.09375 59.90625 40.109375 62.90625 \nQ 36.140625 65.921875 28.71875 65.921875 \nQ 24.65625 65.921875 20.015625 65.03125 \nQ 15.375 64.15625 9.8125 62.3125 \nL 9.8125 71.09375 \nQ 15.4375 72.65625 20.34375 73.4375 \nQ 25.25 74.21875 29.59375 74.21875 \nQ 40.828125 74.21875 47.359375 69.109375 \nQ 53.90625 64.015625 53.90625 55.328125 \nQ 53.90625 49.265625 50.4375 45.09375 \nQ 46.96875 40.921875 40.578125 39.3125 \nz\n\" id=\"DejaVuSans-51\"/>\n       </defs>\n       <use xlink:href=\"#DejaVuSans-51\"/>\n       <use x=\"63.623047\" xlink:href=\"#DejaVuSans-48\"/>\n      </g>\n     </g>\n    </g>\n    <g id=\"xtick_5\">\n     <g id=\"line2d_5\">\n      <g>\n       <use style=\"stroke:#000000;stroke-width:0.8;\" x=\"227.068636\" xlink:href=\"#mccfeaf203e\" y=\"225.96831\"/>\n      </g>\n     </g>\n     <g id=\"text_5\">\n      <!-- 40 -->\n      <g transform=\"translate(220.706136 240.566747)scale(0.1 -0.1)\">\n       <defs>\n        <path d=\"M 37.796875 64.3125 \nL 12.890625 25.390625 \nL 37.796875 25.390625 \nz\nM 35.203125 72.90625 \nL 47.609375 72.90625 \nL 47.609375 25.390625 \nL 58.015625 25.390625 \nL 58.015625 17.1875 \nL 47.609375 17.1875 \nL 47.609375 0 \nL 37.796875 0 \nL 37.796875 17.1875 \nL 4.890625 17.1875 \nL 4.890625 26.703125 \nz\n\" id=\"DejaVuSans-52\"/>\n       </defs>\n       <use xlink:href=\"#DejaVuSans-52\"/>\n       <use x=\"63.623047\" xlink:href=\"#DejaVuSans-48\"/>\n      </g>\n     </g>\n    </g>\n   </g>\n   <g id=\"matplotlib.axis_2\">\n    <g id=\"ytick_1\">\n     <g id=\"line2d_6\">\n      <defs>\n       <path d=\"M 0 0 \nL -3.5 0 \n\" id=\"mbd9e8ef471\" style=\"stroke:#000000;stroke-width:0.8;\"/>\n      </defs>\n      <g>\n       <use style=\"stroke:#000000;stroke-width:0.8;\" x=\"26.925\" xlink:href=\"#mbd9e8ef471\" y=\"10.999219\"/>\n      </g>\n     </g>\n     <g id=\"text_6\">\n      <!-- 0 -->\n      <g transform=\"translate(13.5625 14.798437)scale(0.1 -0.1)\">\n       <use xlink:href=\"#DejaVuSans-48\"/>\n      </g>\n     </g>\n    </g>\n    <g id=\"ytick_2\">\n     <g id=\"line2d_7\">\n      <g>\n       <use style=\"stroke:#000000;stroke-width:0.8;\" x=\"26.925\" xlink:href=\"#mbd9e8ef471\" y=\"35.70831\"/>\n      </g>\n     </g>\n     <g id=\"text_7\">\n      <!-- 5 -->\n      <g transform=\"translate(13.5625 39.507528)scale(0.1 -0.1)\">\n       <defs>\n        <path d=\"M 10.796875 72.90625 \nL 49.515625 72.90625 \nL 49.515625 64.59375 \nL 19.828125 64.59375 \nL 19.828125 46.734375 \nQ 21.96875 47.46875 24.109375 47.828125 \nQ 26.265625 48.1875 28.421875 48.1875 \nQ 40.625 48.1875 47.75 41.5 \nQ 54.890625 34.8125 54.890625 23.390625 \nQ 54.890625 11.625 47.5625 5.09375 \nQ 40.234375 -1.421875 26.90625 -1.421875 \nQ 22.3125 -1.421875 17.546875 -0.640625 \nQ 12.796875 0.140625 7.71875 1.703125 \nL 7.71875 11.625 \nQ 12.109375 9.234375 16.796875 8.0625 \nQ 21.484375 6.890625 26.703125 6.890625 \nQ 35.15625 6.890625 40.078125 11.328125 \nQ 45.015625 15.765625 45.015625 23.390625 \nQ 45.015625 31 40.078125 35.4375 \nQ 35.15625 39.890625 26.703125 39.890625 \nQ 22.75 39.890625 18.8125 39.015625 \nQ 14.890625 38.140625 10.796875 36.28125 \nz\n\" id=\"DejaVuSans-53\"/>\n       </defs>\n       <use xlink:href=\"#DejaVuSans-53\"/>\n      </g>\n     </g>\n    </g>\n    <g id=\"ytick_3\">\n     <g id=\"line2d_8\">\n      <g>\n       <use style=\"stroke:#000000;stroke-width:0.8;\" x=\"26.925\" xlink:href=\"#mbd9e8ef471\" y=\"60.417401\"/>\n      </g>\n     </g>\n     <g id=\"text_8\">\n      <!-- 10 -->\n      <g transform=\"translate(7.2 64.216619)scale(0.1 -0.1)\">\n       <use xlink:href=\"#DejaVuSans-49\"/>\n       <use x=\"63.623047\" xlink:href=\"#DejaVuSans-48\"/>\n      </g>\n     </g>\n    </g>\n    <g id=\"ytick_4\">\n     <g id=\"line2d_9\">\n      <g>\n       <use style=\"stroke:#000000;stroke-width:0.8;\" x=\"26.925\" xlink:href=\"#mbd9e8ef471\" y=\"85.126491\"/>\n      </g>\n     </g>\n     <g id=\"text_9\">\n      <!-- 15 -->\n      <g transform=\"translate(7.2 88.92571)scale(0.1 -0.1)\">\n       <use xlink:href=\"#DejaVuSans-49\"/>\n       <use x=\"63.623047\" xlink:href=\"#DejaVuSans-53\"/>\n      </g>\n     </g>\n    </g>\n    <g id=\"ytick_5\">\n     <g id=\"line2d_10\">\n      <g>\n       <use style=\"stroke:#000000;stroke-width:0.8;\" x=\"26.925\" xlink:href=\"#mbd9e8ef471\" y=\"109.835582\"/>\n      </g>\n     </g>\n     <g id=\"text_10\">\n      <!-- 20 -->\n      <g transform=\"translate(7.2 113.634801)scale(0.1 -0.1)\">\n       <use xlink:href=\"#DejaVuSans-50\"/>\n       <use x=\"63.623047\" xlink:href=\"#DejaVuSans-48\"/>\n      </g>\n     </g>\n    </g>\n    <g id=\"ytick_6\">\n     <g id=\"line2d_11\">\n      <g>\n       <use style=\"stroke:#000000;stroke-width:0.8;\" x=\"26.925\" xlink:href=\"#mbd9e8ef471\" y=\"134.544673\"/>\n      </g>\n     </g>\n     <g id=\"text_11\">\n      <!-- 25 -->\n      <g transform=\"translate(7.2 138.343892)scale(0.1 -0.1)\">\n       <use xlink:href=\"#DejaVuSans-50\"/>\n       <use x=\"63.623047\" xlink:href=\"#DejaVuSans-53\"/>\n      </g>\n     </g>\n    </g>\n    <g id=\"ytick_7\">\n     <g id=\"line2d_12\">\n      <g>\n       <use style=\"stroke:#000000;stroke-width:0.8;\" x=\"26.925\" xlink:href=\"#mbd9e8ef471\" y=\"159.253764\"/>\n      </g>\n     </g>\n     <g id=\"text_12\">\n      <!-- 30 -->\n      <g transform=\"translate(7.2 163.052983)scale(0.1 -0.1)\">\n       <use xlink:href=\"#DejaVuSans-51\"/>\n       <use x=\"63.623047\" xlink:href=\"#DejaVuSans-48\"/>\n      </g>\n     </g>\n    </g>\n    <g id=\"ytick_8\">\n     <g id=\"line2d_13\">\n      <g>\n       <use style=\"stroke:#000000;stroke-width:0.8;\" x=\"26.925\" xlink:href=\"#mbd9e8ef471\" y=\"183.962855\"/>\n      </g>\n     </g>\n     <g id=\"text_13\">\n      <!-- 35 -->\n      <g transform=\"translate(7.2 187.762074)scale(0.1 -0.1)\">\n       <use xlink:href=\"#DejaVuSans-51\"/>\n       <use x=\"63.623047\" xlink:href=\"#DejaVuSans-53\"/>\n      </g>\n     </g>\n    </g>\n    <g id=\"ytick_9\">\n     <g id=\"line2d_14\">\n      <g>\n       <use style=\"stroke:#000000;stroke-width:0.8;\" x=\"26.925\" xlink:href=\"#mbd9e8ef471\" y=\"208.671946\"/>\n      </g>\n     </g>\n     <g id=\"text_14\">\n      <!-- 40 -->\n      <g transform=\"translate(7.2 212.471165)scale(0.1 -0.1)\">\n       <use xlink:href=\"#DejaVuSans-52\"/>\n       <use x=\"63.623047\" xlink:href=\"#DejaVuSans-48\"/>\n      </g>\n     </g>\n    </g>\n   </g>\n   <g id=\"patch_3\">\n    <path d=\"M 26.925 225.96831 \nL 26.925 8.52831 \n\" style=\"fill:none;stroke:#000000;stroke-linecap:square;stroke-linejoin:miter;stroke-width:0.8;\"/>\n   </g>\n   <g id=\"patch_4\">\n    <path d=\"M 244.365 225.96831 \nL 244.365 8.52831 \n\" style=\"fill:none;stroke:#000000;stroke-linecap:square;stroke-linejoin:miter;stroke-width:0.8;\"/>\n   </g>\n   <g id=\"patch_5\">\n    <path d=\"M 26.925 225.96831 \nL 244.365 225.96831 \n\" style=\"fill:none;stroke:#000000;stroke-linecap:square;stroke-linejoin:miter;stroke-width:0.8;\"/>\n   </g>\n   <g id=\"patch_6\">\n    <path d=\"M 26.925 8.52831 \nL 244.365 8.52831 \n\" style=\"fill:none;stroke:#000000;stroke-linecap:square;stroke-linejoin:miter;stroke-width:0.8;\"/>\n   </g>\n  </g>\n </g>\n <defs>\n  <clipPath id=\"pf21ad25059\">\n   <rect height=\"217.44\" width=\"217.44\" x=\"26.925\" y=\"8.52831\"/>\n  </clipPath>\n </defs>\n</svg>\n",
      "image/png": "[encoded data removed]"
     },
     "metadata": {
      "needs_background": "light"
     }
    }
   ],
   "source": [
    "plt.imshow(padd)"
   ]
  },
  {
   "cell_type": "code",
   "execution_count": 14,
   "metadata": {},
   "outputs": [],
   "source": [
    "images_squares = np.array(images_plt_squares)\n",
    "images_triangles = np.array(images_plt_triangles)"
   ]
  },
  {
   "cell_type": "code",
   "execution_count": 15,
   "metadata": {},
   "outputs": [],
   "source": [
    "circles = [np.array(make_padding(circ)) for circ in images_circles]\n",
    "squares = [np.array(make_padding(sque)) for sque in images_squares]\n",
    "triangles = [np.array(make_padding(tri)) for tri in images_triangles]"
   ]
  },
  {
   "cell_type": "code",
   "execution_count": 16,
   "metadata": {},
   "outputs": [
    {
     "output_type": "execute_result",
     "data": {
      "text/plain": [
       "(44, 44, 3)"
      ]
     },
     "metadata": {},
     "execution_count": 16
    }
   ],
   "source": [
    "circles[1].shape"
   ]
  },
  {
   "cell_type": "code",
   "execution_count": 17,
   "metadata": {},
   "outputs": [],
   "source": [
    "def image_to_vector(image: np.ndarray) -> np.ndarray:\n",
    "    \"\"\"\n",
    "    Args:\n",
    "    image: numpy array of shape (length, height, depth)\n",
    "\n",
    "    Returns:\n",
    "     v: a vector of shape (length x height x depth, 1)\n",
    "    \"\"\"\n",
    "    length, height, depth = image.shape\n",
    "    return image.reshape((length * height * depth, 1))"
   ]
  },
  {
   "cell_type": "code",
   "execution_count": 18,
   "metadata": {},
   "outputs": [
    {
     "output_type": "execute_result",
     "data": {
      "text/plain": [
       "array([[1.],\n",
       "       [1.],\n",
       "       [1.],\n",
       "       ...,\n",
       "       [1.],\n",
       "       [1.],\n",
       "       [1.]])"
      ]
     },
     "metadata": {},
     "execution_count": 18
    }
   ],
   "source": [
    "image_to_vector(circles[1])"
   ]
  },
  {
   "cell_type": "code",
   "execution_count": 19,
   "metadata": {},
   "outputs": [],
   "source": [
    "circles_1D = np.array(\n",
    "    [image_to_vector(c) for c in circles]\n",
    "    )\n",
    "\n",
    "triangles_1D = np.array(\n",
    "    [image_to_vector(t) for t in triangles]\n",
    "    )\n",
    "\n",
    "squares_1D = np.array(\n",
    "    [image_to_vector(s) for s in squares]\n",
    "    )"
   ]
  },
  {
   "cell_type": "code",
   "execution_count": 20,
   "metadata": {},
   "outputs": [
    {
     "output_type": "execute_result",
     "data": {
      "text/plain": [
       "(100, 5808, 1)"
      ]
     },
     "metadata": {},
     "execution_count": 20
    }
   ],
   "source": [
    "circles_1D.shape"
   ]
  },
  {
   "cell_type": "code",
   "execution_count": 21,
   "metadata": {},
   "outputs": [],
   "source": [
    "import pandas as pd\n",
    "df_circles = pd.DataFrame(data=circles_1D.reshape(circles_1D.shape[0], circles_1D.shape[1]))\n",
    "df_triangles = pd.DataFrame(data=triangles_1D.reshape(triangles_1D.shape[0], triangles_1D.shape[1]))\n",
    "df_squares = pd.DataFrame(data=squares_1D.reshape(squares_1D.shape[0], squares_1D.shape[1]))"
   ]
  },
  {
   "cell_type": "code",
   "execution_count": 22,
   "metadata": {},
   "outputs": [],
   "source": [
    "targets = ['circle' for c in range(100)] + ['triangle' for t in range(100)] + ['squares' for s in range(100)]"
   ]
  },
  {
   "cell_type": "code",
   "execution_count": 23,
   "metadata": {},
   "outputs": [
    {
     "output_type": "execute_result",
     "data": {
      "text/plain": [
       "300"
      ]
     },
     "metadata": {},
     "execution_count": 23
    }
   ],
   "source": [
    "len(targets)"
   ]
  },
  {
   "cell_type": "code",
   "execution_count": 24,
   "metadata": {},
   "outputs": [],
   "source": [
    "targets = pd.Series(targets, dtype='category')"
   ]
  },
  {
   "cell_type": "code",
   "execution_count": 27,
   "metadata": {},
   "outputs": [
    {
     "output_type": "execute_result",
     "data": {
      "text/plain": [
       "0       circle\n",
       "1       circle\n",
       "2       circle\n",
       "3       circle\n",
       "4       circle\n",
       "        ...   \n",
       "295    squares\n",
       "296    squares\n",
       "297    squares\n",
       "298    squares\n",
       "299    squares\n",
       "Length: 300, dtype: category\n",
       "Categories (3, object): ['circle', 'squares', 'triangle']"
      ]
     },
     "metadata": {},
     "execution_count": 27
    }
   ],
   "source": [
    "targets"
   ]
  },
  {
   "cell_type": "code",
   "execution_count": 28,
   "metadata": {},
   "outputs": [],
   "source": [
    "df = pd.concat(\n",
    "    [df_circles, df_triangles, df_squares],\n",
    "    axis=0\n",
    ")"
   ]
  },
  {
   "cell_type": "code",
   "execution_count": 29,
   "metadata": {},
   "outputs": [
    {
     "output_type": "execute_result",
     "data": {
      "text/plain": [
       "(300, 5808)"
      ]
     },
     "metadata": {},
     "execution_count": 29
    }
   ],
   "source": [
    "df.shape"
   ]
  },
  {
   "cell_type": "code",
   "execution_count": 30,
   "metadata": {},
   "outputs": [],
   "source": [
    "df['target'] = targets.values"
   ]
  },
  {
   "cell_type": "code",
   "execution_count": 31,
   "metadata": {},
   "outputs": [
    {
     "output_type": "execute_result",
     "data": {
      "text/plain": [
       "      0    1    2    3    4    5    6    7    8    9  ...  5799  5800  5801  \\\n",
       "95  1.0  1.0  1.0  1.0  1.0  1.0  1.0  1.0  1.0  1.0  ...   1.0   1.0   1.0   \n",
       "96  1.0  1.0  1.0  1.0  1.0  1.0  1.0  1.0  1.0  1.0  ...   1.0   1.0   1.0   \n",
       "97  1.0  1.0  1.0  1.0  1.0  1.0  1.0  1.0  1.0  1.0  ...   1.0   1.0   1.0   \n",
       "98  1.0  1.0  1.0  1.0  1.0  1.0  1.0  1.0  1.0  1.0  ...   1.0   1.0   1.0   \n",
       "99  1.0  1.0  1.0  1.0  1.0  1.0  1.0  1.0  1.0  1.0  ...   1.0   1.0   1.0   \n",
       "\n",
       "    5802  5803  5804  5805  5806  5807   target  \n",
       "95   1.0   1.0   1.0   1.0   1.0   1.0  squares  \n",
       "96   1.0   1.0   1.0   1.0   1.0   1.0  squares  \n",
       "97   1.0   1.0   1.0   1.0   1.0   1.0  squares  \n",
       "98   1.0   1.0   1.0   1.0   1.0   1.0  squares  \n",
       "99   1.0   1.0   1.0   1.0   1.0   1.0  squares  \n",
       "\n",
       "[5 rows x 5809 columns]"
      ],
      "text/html": "<div>\n<style scoped>\n    .dataframe tbody tr th:only-of-type {\n        vertical-align: middle;\n    }\n\n    .dataframe tbody tr th {\n        vertical-align: top;\n    }\n\n    .dataframe thead th {\n        text-align: right;\n    }\n</style>\n<table border=\"1\" class=\"dataframe\">\n  <thead>\n    <tr style=\"text-align: right;\">\n      <th></th>\n      <th>0</th>\n      <th>1</th>\n      <th>2</th>\n      <th>3</th>\n      <th>4</th>\n      <th>5</th>\n      <th>6</th>\n      <th>7</th>\n      <th>8</th>\n      <th>9</th>\n      <th>...</th>\n      <th>5799</th>\n      <th>5800</th>\n      <th>5801</th>\n      <th>5802</th>\n      <th>5803</th>\n      <th>5804</th>\n      <th>5805</th>\n      <th>5806</th>\n      <th>5807</th>\n      <th>target</th>\n    </tr>\n  </thead>\n  <tbody>\n    <tr>\n      <th>95</th>\n      <td>1.0</td>\n      <td>1.0</td>\n      <td>1.0</td>\n      <td>1.0</td>\n      <td>1.0</td>\n      <td>1.0</td>\n      <td>1.0</td>\n      <td>1.0</td>\n      <td>1.0</td>\n      <td>1.0</td>\n      <td>...</td>\n      <td>1.0</td>\n      <td>1.0</td>\n      <td>1.0</td>\n      <td>1.0</td>\n      <td>1.0</td>\n      <td>1.0</td>\n      <td>1.0</td>\n      <td>1.0</td>\n      <td>1.0</td>\n      <td>squares</td>\n    </tr>\n    <tr>\n      <th>96</th>\n      <td>1.0</td>\n      <td>1.0</td>\n      <td>1.0</td>\n      <td>1.0</td>\n      <td>1.0</td>\n      <td>1.0</td>\n      <td>1.0</td>\n      <td>1.0</td>\n      <td>1.0</td>\n      <td>1.0</td>\n      <td>...</td>\n      <td>1.0</td>\n      <td>1.0</td>\n      <td>1.0</td>\n      <td>1.0</td>\n      <td>1.0</td>\n      <td>1.0</td>\n      <td>1.0</td>\n      <td>1.0</td>\n      <td>1.0</td>\n      <td>squares</td>\n    </tr>\n    <tr>\n      <th>97</th>\n      <td>1.0</td>\n      <td>1.0</td>\n      <td>1.0</td>\n      <td>1.0</td>\n      <td>1.0</td>\n      <td>1.0</td>\n      <td>1.0</td>\n      <td>1.0</td>\n      <td>1.0</td>\n      <td>1.0</td>\n      <td>...</td>\n      <td>1.0</td>\n      <td>1.0</td>\n      <td>1.0</td>\n      <td>1.0</td>\n      <td>1.0</td>\n      <td>1.0</td>\n      <td>1.0</td>\n      <td>1.0</td>\n      <td>1.0</td>\n      <td>squares</td>\n    </tr>\n    <tr>\n      <th>98</th>\n      <td>1.0</td>\n      <td>1.0</td>\n      <td>1.0</td>\n      <td>1.0</td>\n      <td>1.0</td>\n      <td>1.0</td>\n      <td>1.0</td>\n      <td>1.0</td>\n      <td>1.0</td>\n      <td>1.0</td>\n      <td>...</td>\n      <td>1.0</td>\n      <td>1.0</td>\n      <td>1.0</td>\n      <td>1.0</td>\n      <td>1.0</td>\n      <td>1.0</td>\n      <td>1.0</td>\n      <td>1.0</td>\n      <td>1.0</td>\n      <td>squares</td>\n    </tr>\n    <tr>\n      <th>99</th>\n      <td>1.0</td>\n      <td>1.0</td>\n      <td>1.0</td>\n      <td>1.0</td>\n      <td>1.0</td>\n      <td>1.0</td>\n      <td>1.0</td>\n      <td>1.0</td>\n      <td>1.0</td>\n      <td>1.0</td>\n      <td>...</td>\n      <td>1.0</td>\n      <td>1.0</td>\n      <td>1.0</td>\n      <td>1.0</td>\n      <td>1.0</td>\n      <td>1.0</td>\n      <td>1.0</td>\n      <td>1.0</td>\n      <td>1.0</td>\n      <td>squares</td>\n    </tr>\n  </tbody>\n</table>\n<p>5 rows × 5809 columns</p>\n</div>"
     },
     "metadata": {},
     "execution_count": 31
    }
   ],
   "source": [
    "df.tail()"
   ]
  },
  {
   "cell_type": "code",
   "execution_count": 32,
   "metadata": {},
   "outputs": [],
   "source": [
    "df.target = df.target.cat.codes.values"
   ]
  },
  {
   "cell_type": "code",
   "execution_count": 33,
   "metadata": {},
   "outputs": [
    {
     "output_type": "execute_result",
     "data": {
      "text/plain": [
       "0    100\n",
       "1    100\n",
       "2    100\n",
       "Name: target, dtype: int64"
      ]
     },
     "metadata": {},
     "execution_count": 33
    }
   ],
   "source": [
    "df.target.value_counts()"
   ]
  },
  {
   "cell_type": "code",
   "execution_count": 36,
   "metadata": {},
   "outputs": [
    {
     "output_type": "execute_result",
     "data": {
      "text/plain": [
       "['__init__.py', '.ipynb_checkpoints', 'preproc.ipynb']"
      ]
     },
     "metadata": {},
     "execution_count": 36
    }
   ],
   "source": [
    "os.listdir()"
   ]
  },
  {
   "cell_type": "code",
   "execution_count": 38,
   "metadata": {},
   "outputs": [],
   "source": [
    "df.to_csv(config.INPUT_FOLD + \"data.csv\")"
   ]
  }
 ]
}